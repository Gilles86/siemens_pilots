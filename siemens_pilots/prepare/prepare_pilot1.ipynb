{
 "cells": [
  {
   "cell_type": "code",
   "execution_count": 40,
   "metadata": {},
   "outputs": [],
   "source": [
    "import numpy as np\n",
    "import os\n",
    "from pathlib import Path\n",
    "import shutil\n",
    "import json\n",
    "\n",
    "basedir = Path('/data/ds-siemenspilots/') #sourcedata/mri'\n",
    "\n",
    "subject = 'alina'"
   ]
  },
  {
   "cell_type": "code",
   "execution_count": 26,
   "metadata": {},
   "outputs": [],
   "source": [
    "orders = [[0, 2, 4], [4, 2, 0], [2, 0, 4]]"
   ]
  },
  {
   "cell_type": "code",
   "execution_count": 66,
   "metadata": {},
   "outputs": [],
   "source": [
    "template_json = {\"MagneticFieldStrength\": 3,\n",
    "                \"ParallelReductionFactorInPlane\": 1,\n",
    "                \"RepetitionTime\": 0.0,\n",
    "                \"TaskName\": \"Numerosity estimation\",\n",
    "                \"PhaseEncodingDirection\": \"i\",\n",
    "                'TotalReadoutTime': 0.04,}"
   ]
  },
  {
   "cell_type": "code",
   "execution_count": 67,
   "metadata": {},
   "outputs": [],
   "source": [
    "from nilearn import image"
   ]
  },
  {
   "cell_type": "code",
   "execution_count": 68,
   "metadata": {},
   "outputs": [],
   "source": [
    "import json\n",
    "\n",
    "for session in [1,2,3]:\n",
    "\n",
    "    target_dir = basedir / f'sub-{subject}' / f'ses-{session}'\n",
    "    source_dir = basedir / 'sourcedata' / 'mri' / f'sub-{subject}' / f'01_{session:02d}'\n",
    "\n",
    "    os.makedirs(target_dir, exist_ok=True)\n",
    "\n",
    "    order = orders[session-1]\n",
    "\n",
    "    for sd in ['anat', 'fmap', 'func']:\n",
    "        os.makedirs(target_dir / sd, exist_ok=True)\n",
    "\n",
    "    # Find anatomical data:\n",
    "    anat_files = list(source_dir.glob('t1_mprage*.nii.gz'))\n",
    "\n",
    "    for i, anat_fn in enumerate(anat_files):\n",
    "        if len(anat_files) == 1:\n",
    "            target_fn = target_dir / 'anat' / f'sub-{subject}_ses-{session}_T1w.nii.gz'\n",
    "        else:\n",
    "            target_fn = target_dir / 'anat' / f'sub-{subject}_ses-{session}_run-{i+1}_T1w.nii.gz'\n",
    "\n",
    "        shutil.copy(anat_fn, target_fn)\n",
    "\n",
    "    # Find functional data:\n",
    "\n",
    "    for i, mb in enumerate(order):\n",
    "\n",
    "        for repetition in [1, 2]:\n",
    "\n",
    "            lr = {1: 'LR', 2: 'RL'}[repetition]\n",
    "            run = i+1 + 3*(repetition-1)\n",
    "\n",
    "            source_fn = source_dir / f'fmri_g0_sms{mb}_f8p8_r{repetition}.nii.gz'\n",
    "            target_fn = target_dir / 'func' / f'sub-{subject}_ses-{session}_task-numestimate_acq-mb{mb}_dir-{lr}_run-{run:02d}_bold.nii.gz'\n",
    "\n",
    "\n",
    "            shutil.copy(source_fn, target_fn)\n",
    "            \n",
    "            json_dict = template_json.copy()\n",
    "            json_dict['RepetitionTime'] = float(image.load_img(source_fn).header.get_zooms()[3])\n",
    "            json_dict['PhaseEncodingDirection'] = 'i-' if lr == 'RL' else 'i'\n",
    "\n",
    "            with open(target_fn.with_suffix('').with_suffix('.json'), 'w') as f:\n",
    "                json.dump(json_dict, f)\n",
    "\n",
    "            # If mulitband 1, write it down as sbref\n",
    "\n",
    "            if mb == 1:\n",
    "                for run_ in range((repetition-1)*3+1, repetition*3+1):\n",
    "                    # source_fn = source_dir / f'fmri_g0_sms{mb}_f8p8_r{repetition}_sbref.nii.gz'\n",
    "                    mbref = image.load_img(source_fn).slicer[0]\n",
    "                    target_fn = target_dir / 'func' / f'sub-{subject}_ses-{session}_task-numestimate_acq-mb{mb}_dir-{lr}_run-{run_:02d}_sbref.nii.gz'\n",
    "                    mbref.to_filename(target_fn)\n",
    "\n",
    "\n",
    "\n",
    "    for i, mb in enumerate(order):\n",
    "\n",
    "        for repetition in [1, 2]:\n",
    "            other_repetition = 3 - repetition + 1\n",
    "            source_fn = source_dir / f'fmri_g0_sms{mb}_f8p8_r{repetition}.nii.gz'\n",
    "\n",
    "            if repetition == 1:\n",
    "                # Get last 5 slices\n",
    "                topup = image.load_img(source_fn).slicer[:, :, :, -5:]\n",
    "                bold_fn = Path(f'ses-{session}') / 'func' / f'sub-{subject}_ses-{session}_task-numestimate_acq-mb{mb}_dir-RL_run-{i+1+3:02d}_bold.nii.gz'\n",
    "            else:\n",
    "                # Get first 5 slices\n",
    "                topup = image.load_img(source_fn).slicer[:, :, :, :5]\n",
    "                bold_fn = Path(f'ses-{session}') / 'func' / f'sub-{subject}_ses-{session}_task-numestimate_acq-mb{mb}_dir-LR_run-{i+1:02d}_bold.nii.gz'\n",
    "\n",
    "            target_fn = target_dir / 'fmap' / f'sub-{subject}_ses-{session}_acq-mb{mb}_dir-{[\"RL\", \"LR\"][repetition-1]}_epi.nii.gz'\n",
    "            topup.to_filename(target_fn)\n",
    "\n",
    "            target_json_fn = target_fn.with_suffix('').with_suffix('.json')\n",
    "\n",
    "            json_dict['IntendedFor'] = [str(bold_fn)]\n",
    "\n",
    "            with open(target_json_fn, 'w') as f:\n",
    "                json.dump(json_dict, f)"
   ]
  }
 ],
 "metadata": {
  "kernelspec": {
   "display_name": "base",
   "language": "python",
   "name": "python3"
  },
  "language_info": {
   "codemirror_mode": {
    "name": "ipython",
    "version": 3
   },
   "file_extension": ".py",
   "mimetype": "text/x-python",
   "name": "python",
   "nbconvert_exporter": "python",
   "pygments_lexer": "ipython3",
   "version": "3.10.13"
  }
 },
 "nbformat": 4,
 "nbformat_minor": 2
}
